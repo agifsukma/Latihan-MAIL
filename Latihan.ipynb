{
 "cells": [
  {
   "cell_type": "code",
   "execution_count": 50,
   "metadata": {},
   "outputs": [],
   "source": [
    "import argparse \n",
    "import getpass\n",
    "import imaplib\n",
    "import poplib\n",
    "import smtplib"
   ]
  },
  {
   "cell_type": "code",
   "execution_count": 54,
   "metadata": {},
   "outputs": [
    {
     "output_type": "error",
     "ename": "IndentationError",
     "evalue": "unexpected unindent (<ipython-input-54-fe5d03229e48>, line 17)",
     "traceback": [
      "\u001b[1;36m  File \u001b[1;32m\"<ipython-input-54-fe5d03229e48>\"\u001b[1;36m, line \u001b[1;32m17\u001b[0m\n\u001b[1;33m    def pop_mail(username):\u001b[0m\n\u001b[1;37m                           ^\u001b[0m\n\u001b[1;31mIndentationError\u001b[0m\u001b[1;31m:\u001b[0m unexpected unindent\n"
     ]
    }
   ],
   "source": [
    "def imap_mail(username):\n",
    "    IMAP_SERVER = 'outlook.office365.com'\n",
    "    IMAP_PORT = 993\n",
    "    try :\n",
    "        mailbox = imaplib.IMAP4_SSl(IMAP_SERVER, IMAP_PORT)\n",
    "        password = getpass.getpass(prompt='#IMAP MAIL# \\nEnter your office356 password: ')\n",
    "        mailbox.login(username, password)\n",
    "        mailbox.select('Inbox')\n",
    "        typ, data= mailbox.search(none, 'ALL')\n",
    "        for num in data [0].split():\n",
    "            typ, data = mailbox.fetch (num, '(RFC822)')\n",
    "            print ('Massage %s\\n%s\\n' % (num, data [0][1]))\n",
    "            break\n",
    "        mailbox.close()\n",
    "        mailbox.close()\n",
    "\n",
    "def pop_mail(username):\n",
    "    POP_SERVER = 'outlook.office365.com'\n",
    "    POP_PORT = 995\n",
    "    try:\n",
    "        mailbox = poplib.POP3_SSL(POP_SERVER, POP_PORT)\n",
    "        mailbox.user(username)\n",
    "        password = getpass.getpass(prompt='#POP MAIL# \\nEnter your office356 password: ')\n",
    "        mailbox.pass_(password)\n",
    "        num_massage = len(mailbox.list()[1])\n",
    "        print ('Total emails:{}' .format(num_massage))\n",
    "        mailbox.quit()"
   ]
  },
  {
   "cell_type": "markdown",
   "metadata": {},
   "source": [
    "Buatlah sebuah fungsi yang dapat menggabungkan fungsionalitas fungsi `imap_mail()` dan `pop_mail()`"
   ]
  },
  {
   "cell_type": "code",
   "execution_count": 52,
   "metadata": {},
   "outputs": [],
   "source": [
    "def mail(username, protocol, host, port):\n",
    "    imap_mail(username)\n",
    "    pop_mail(username)"
   ]
  },
  {
   "cell_type": "markdown",
   "metadata": {},
   "source": [
    "Panggil fungsi `mail()` di bawah ini:"
   ]
  },
  {
   "cell_type": "code",
   "execution_count": 53,
   "metadata": {},
   "outputs": [
    {
     "output_type": "stream",
     "name": "stdout",
     "text": "Erorr\nTotal emails:21\n"
    }
   ],
   "source": [
    "mail(\"170010111@stikom-bali.ac.id\",\"all\",\"all\",\"all\")"
   ]
  },
  {
   "cell_type": "code",
   "execution_count": null,
   "metadata": {},
   "outputs": [],
   "source": []
  }
 ],
 "metadata": {
  "kernelspec": {
   "display_name": "Python 3.8.2 32-bit",
   "language": "python",
   "name": "python38232bit94593e34a64d4901a716e44f457f3b28"
  },
  "language_info": {
   "codemirror_mode": {
    "name": "ipython",
    "version": 3
   },
   "file_extension": ".py",
   "mimetype": "text/x-python",
   "name": "python",
   "nbconvert_exporter": "python",
   "pygments_lexer": "ipython3",
   "version": "3.8.2-final"
  }
 },
 "nbformat": 4,
 "nbformat_minor": 4
}